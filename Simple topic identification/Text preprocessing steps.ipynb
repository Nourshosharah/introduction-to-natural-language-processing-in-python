{
 "cells": [
  {
   "cell_type": "code",
   "execution_count": null,
   "metadata": {},
   "outputs": [],
   "source": [
    "''''Which of the following are useful text preprocessing steps?\n",
    "\n",
    "Answer the question\n",
    "50 XP\n",
    "Possible Answers\n",
    "Stems, spelling corrections, lowercase.\n",
    "press\n",
    "1\n",
    "Lemmatization, lowercasing, removing unwanted tokens.\n",
    "press\n",
    "2\n",
    "Removing stop words, leaving in capital words.\n",
    "press\n",
    "3\n",
    "Strip stop words, word endings and digits.\n",
    "press\n",
    " \"\"\"\""
   ]
  },
  {
   "cell_type": "code",
   "execution_count": null,
   "metadata": {},
   "outputs": [],
   "source": [
    "Lemmatization, lowercasing, removing unwanted tokens."
   ]
  }
 ],
 "metadata": {
  "kernelspec": {
   "display_name": "Python 3",
   "language": "python",
   "name": "python3"
  },
  "language_info": {
   "codemirror_mode": {
    "name": "ipython",
    "version": 3
   },
   "file_extension": ".py",
   "mimetype": "text/x-python",
   "name": "python",
   "nbconvert_exporter": "python",
   "pygments_lexer": "ipython3",
   "version": "3.6.6"
  }
 },
 "nbformat": 4,
 "nbformat_minor": 2
}
