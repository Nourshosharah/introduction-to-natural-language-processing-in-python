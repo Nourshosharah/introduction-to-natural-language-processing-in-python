{
 "cells": [
  {
   "cell_type": "code",
   "execution_count": null,
   "metadata": {},
   "outputs": [],
   "source": [
    "'''Which of the following are possible features for a text classification problem?\n",
    "\n",
    "Answer the question\n",
    "35 XP\n",
    "Possible Answers\n",
    "Number of words in a document.\n",
    "press\n",
    "1\n",
    "Specific named entities.\n",
    "press\n",
    "2\n",
    "Language.\n",
    "press\n",
    "3\n",
    "All of the above.'''"
   ]
  },
  {
   "cell_type": "code",
   "execution_count": null,
   "metadata": {},
   "outputs": [],
   "source": [
    "All of the above"
   ]
  }
 ],
 "metadata": {
  "kernelspec": {
   "display_name": "Python 3",
   "language": "python",
   "name": "python3"
  },
  "language_info": {
   "codemirror_mode": {
    "name": "ipython",
    "version": 3
   },
   "file_extension": ".py",
   "mimetype": "text/x-python",
   "name": "python",
   "nbconvert_exporter": "python",
   "pygments_lexer": "ipython3",
   "version": "3.6.6"
  }
 },
 "nbformat": 4,
 "nbformat_minor": 2
}
