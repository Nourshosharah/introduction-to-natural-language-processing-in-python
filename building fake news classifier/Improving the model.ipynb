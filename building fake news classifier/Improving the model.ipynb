{
 "cells": [
  {
   "cell_type": "code",
   "execution_count": null,
   "metadata": {},
   "outputs": [],
   "source": [
    "What are possible next steps you could take to improve the model?\n",
    "\n",
    "Answer the question\n",
    "50 XP\n",
    "Possible Answers\n",
    "Tweaking alpha levels.\n",
    "press\n",
    "1\n",
    "Trying a new classification model.\n",
    "press\n",
    "2\n",
    "Training on a larger dataset.\n",
    "press\n",
    "3\n",
    "Improving text preprocessing.\n",
    "press\n",
    "4\n",
    "All of the above.\n",
    "press\n"
   ]
  },
  {
   "cell_type": "code",
   "execution_count": null,
   "metadata": {},
   "outputs": [],
   "source": [
    "All of the above."
   ]
  }
 ],
 "metadata": {
  "kernelspec": {
   "display_name": "Python 3",
   "language": "python",
   "name": "python3"
  },
  "language_info": {
   "codemirror_mode": {
    "name": "ipython",
    "version": 3
   },
   "file_extension": ".py",
   "mimetype": "text/x-python",
   "name": "python",
   "nbconvert_exporter": "python",
   "pygments_lexer": "ipython3",
   "version": "3.6.6"
  }
 },
 "nbformat": 4,
 "nbformat_minor": 2
}
