{
 "cells": [
  {
   "cell_type": "code",
   "execution_count": null,
   "metadata": {},
   "outputs": [],
   "source": [
    "'''You'll continue your exploration of polyglot now with some Spanish annotation. This article is not written by a newspaper, so it is your first example of a more blog-like text. How do you think that might compare when finding entities?\n",
    "\n",
    "The Text object has been created as txt, and each entity has been printed, as you can see in the IPython Shell.\n",
    "\n",
    "Your specific task is to determine how many of the entities contain the words \"Márquez\" or \"Gabo\" - these refer to the same person in different ways!\n",
    "\n",
    "txt.entities is available.\n",
    "\n",
    "Instructions\n",
    "100 XP\n",
    "Instructions\n",
    "100 XP\n",
    "Calculate the proportion of txt.entities that refer to Gabriel Garcia Marquez. That is, they contain \"Márquez\" or \"Gabo\", storing it as prop_ggm. Print this value.\n",
    "\n",
    "'''"
   ]
  },
  {
   "cell_type": "code",
   "execution_count": null,
   "metadata": {},
   "outputs": [],
   "source": [
    "# Calculate the proportion of txt.entities that\n",
    "# contains 'Márquez' or 'Gabo': prop_ggm\n",
    "\n",
    "# Initialize the count\n",
    "count = 0\n",
    "\n",
    "# Iterate over all the entities\n",
    "for entity in txt.entities:\n",
    "    # Check whether the entity contains 'Márquez' or 'Gabo'\n",
    "    if \"Márquez\" in entity or \"Gabo\" in entity:\n",
    "        # Increment count\n",
    "        count += 1\n",
    "\n",
    "# Calculate the proportion of entities counted: prop_ggm\n",
    "prop_ggm = count / len(txt.entities)\n",
    "print(prop_ggm)\n"
   ]
  }
 ],
 "metadata": {
  "kernelspec": {
   "display_name": "Python 3",
   "language": "python",
   "name": "python3"
  },
  "language_info": {
   "codemirror_mode": {
    "name": "ipython",
    "version": 3
   },
   "file_extension": ".py",
   "mimetype": "text/x-python",
   "name": "python",
   "nbconvert_exporter": "python",
   "pygments_lexer": "ipython3",
   "version": "3.6.6"
  }
 },
 "nbformat": 4,
 "nbformat_minor": 2
}
