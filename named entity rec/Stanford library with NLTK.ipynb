{
 "cells": [
  {
   "cell_type": "code",
   "execution_count": null,
   "metadata": {},
   "outputs": [],
   "source": [
    "''''Stanford library with NLTK\n",
    "When using the Stanford library with NLTK, what is needed to get started?\n",
    "\n",
    "Answer the question\n",
    "50 XP\n",
    "Possible Answers\n",
    "A normal installation of NLTK.\n",
    "press\n",
    "1\n",
    "An installation of the Stanford Java Library.\n",
    "press\n",
    "2\n",
    "Both NLTK and an installation of the Stanford Java Library.\n",
    "press\n",
    "3\n",
    "NLTK, the Stanford Java Libraries and some environment variables to help with integration.\n",
    "press\n",
    "4\n",
    "\n",
    "''''''''\n",
    "\n"
   ]
  },
  {
   "cell_type": "markdown",
   "metadata": {},
   "source": [
    "4\n"
   ]
  }
 ],
 "metadata": {
  "kernelspec": {
   "display_name": "Python 3",
   "language": "python",
   "name": "python3"
  },
  "language_info": {
   "codemirror_mode": {
    "name": "ipython",
    "version": 3
   },
   "file_extension": ".py",
   "mimetype": "text/x-python",
   "name": "python",
   "nbconvert_exporter": "python",
   "pygments_lexer": "ipython3",
   "version": "3.6.6"
  }
 },
 "nbformat": 4,
 "nbformat_minor": 2
}
