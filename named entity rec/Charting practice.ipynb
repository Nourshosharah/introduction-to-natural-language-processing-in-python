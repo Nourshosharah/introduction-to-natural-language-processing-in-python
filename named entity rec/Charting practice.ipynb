{
 "cells": [
  {
   "cell_type": "code",
   "execution_count": null,
   "metadata": {},
   "outputs": [],
   "source": [
    "''''In this exercise, youll use some extracted named entities and their groupings from a series of newspaper articles to chart the diversity of named entity types in the articles.\n",
    "\n",
    "Youll use a defaultdict called ner_categories, with keys representing every named entity group type, and values to count the number of each different named entity type. You have a chunked sentence list called chunked_sentences similar to the last exercise, but this time with non-binary category names.\n",
    "\n",
    "You can use hasattr() to determine if each chunk has a #'label' and then simply use the chunk's .label() method as the dictionary key.\n",
    "\n",
    "Instructions 1/3\n",
    "1 XP\n",
    "Create a defaultdict called ner_categories, with the default type set to int.\n",
    "Hint\n",
    "Use defaultdict(int) to create ner_categories.''''''"
   ]
  },
  {
   "cell_type": "code",
   "execution_count": null,
   "metadata": {},
   "outputs": [],
   "source": [
    "''''Fill up the dictionary with values for each of the keys. Remember, the keys will represent the label().\n",
    "In the outer for loop, iterate over chunked_sentences, using sent as your iterator variable.\n",
    "In the inner for loop, iterate over sent. If the condition is true, increment the value of each key by 1.\n",
    "Remember to use the chunk's .label() method as the key!\n",
    "For the pie chart labels, create a list called labels from the keys of ner_categories, which can be accessed using .keys().\n",
    "Hint\n",
    "If the condition inside the nested for loop is true, increment ner_categories[chunk.label()].\n",
    "Use the .keys() method on ner_categories to access its keys.''''''"
   ]
  },
  {
   "cell_type": "code",
   "execution_count": null,
   "metadata": {},
   "outputs": [],
   "source": [
    "'''''Use a list comprehension to create a list called values, using the .get() method on ner_categories to compute the values of each label v.\n",
    "Use plt.pie() to create a pie chart for each of the NER categories. Along with values and labels=labels, pass the extra keyword arguments autopct='%1.1f%%' and startangle=140 to add percentages to the chart and rotate the initial start angle.\n",
    "This step has been done for you.\n",
    "Display your pie chart. Was the distribution what you expected?\n",
    "Hint\n",
    "Use the .get() method on ner_categories with the letter l as the argument to compute the values.\n",
    "Use plt.pie() with the arguments specified in the instructions to create the pie chart. Then, use plt.show() to display it.''''"
   ]
  },
  {
   "cell_type": "code",
   "execution_count": null,
   "metadata": {},
   "outputs": [],
   "source": [
    "# Create the defaultdict: ner_categories\n",
    "ner_categories = defaultdict(int)\n",
    "\n",
    "# Create the nested for loop\n",
    "for sent in chunked_sentences:\n",
    "    for chunk in sent:\n",
    "        if hasattr(chunk, 'label'):\n",
    "            ner_categories[chunk.label()] += 1\n",
    "            \n",
    "# Create a list from the dictionary keys for the chart labels: labels\n",
    "labels = list(ner_categories.keys())\n",
    "\n",
    "# Create a list of the values: values\n",
    "values = [ner_categories.get(v) for v in labels]\n",
    "\n",
    "# Create the pie chart\n",
    "plt.pie(values, labels=labels, autopct='%1.1f%%', startangle=140)\n",
    "\n",
    "# Display the chart\n",
    "plt.show()"
   ]
  }
 ],
 "metadata": {
  "kernelspec": {
   "display_name": "Python 3",
   "language": "python",
   "name": "python3"
  },
  "language_info": {
   "codemirror_mode": {
    "name": "ipython",
    "version": 3
   },
   "file_extension": ".py",
   "mimetype": "text/x-python",
   "name": "python",
   "nbconvert_exporter": "python",
   "pygments_lexer": "ipython3",
   "version": "3.6.6"
  }
 },
 "nbformat": 4,
 "nbformat_minor": 2
}
